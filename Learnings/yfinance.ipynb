{
 "cells": [
  {
   "metadata": {},
   "cell_type": "markdown",
   "source": "# Learning using yfinaince",
   "id": "a972edf73bf4ea6e"
  },
  {
   "metadata": {
    "ExecuteTime": {
     "end_time": "2025-06-13T09:57:06.789013Z",
     "start_time": "2025-06-13T09:57:06.049244Z"
    }
   },
   "cell_type": "code",
   "source": "import yfinance as yf",
   "id": "c5a81df97a65f1d",
   "outputs": [],
   "execution_count": 1
  },
  {
   "metadata": {
    "ExecuteTime": {
     "end_time": "2025-06-13T09:57:28.115927Z",
     "start_time": "2025-06-13T09:57:27.376673Z"
    }
   },
   "cell_type": "code",
   "source": "data = yf.download(\"AAPL\", start=\"2020-01-01\", end=\"2024-01-01\")",
   "id": "745bfbfa860f6182",
   "outputs": [
    {
     "name": "stdout",
     "output_type": "stream",
     "text": [
      "YF.download() has changed argument auto_adjust default to True\n"
     ]
    },
    {
     "name": "stderr",
     "output_type": "stream",
     "text": [
      "[*********************100%***********************]  1 of 1 completed\n"
     ]
    }
   ],
   "execution_count": 2
  },
  {
   "metadata": {
    "ExecuteTime": {
     "end_time": "2025-06-13T09:57:41.075775Z",
     "start_time": "2025-06-13T09:57:41.059971Z"
    }
   },
   "cell_type": "code",
   "source": "data.to_csv(\"AAPL.csv\")",
   "id": "b4c6d60b16fc2efe",
   "outputs": [],
   "execution_count": 3
  },
  {
   "metadata": {},
   "cell_type": "code",
   "outputs": [],
   "execution_count": null,
   "source": "",
   "id": "8925d9e484ddf597"
  }
 ],
 "metadata": {
  "kernelspec": {
   "display_name": "Python 3",
   "language": "python",
   "name": "python3"
  },
  "language_info": {
   "codemirror_mode": {
    "name": "ipython",
    "version": 2
   },
   "file_extension": ".py",
   "mimetype": "text/x-python",
   "name": "python",
   "nbconvert_exporter": "python",
   "pygments_lexer": "ipython2",
   "version": "2.7.6"
  }
 },
 "nbformat": 4,
 "nbformat_minor": 5
}

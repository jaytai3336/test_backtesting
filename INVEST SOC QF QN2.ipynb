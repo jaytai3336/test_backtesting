{
 "cells": [
  {
   "metadata": {},
   "cell_type": "markdown",
   "source": [
    "# Invest Soc QF Qn2\n",
    "\n",
    "### Problem statement\n",
    "\n",
    "Q2.  Develop a trading strategy/model using an asset (or a combination of assets) from G10 FX, Gold Continuous Futures, Govt Bonds ETF/Futures provided\t\t\t\t\t\t\n",
    "\n",
    "### Approach Overview\n",
    "1. Data Preparation & Exploration\n",
    "2. Feature Engineering\n",
    "3. Model Development\n",
    "4. Walk-Forward Validation\n",
    "5. Performance Evaluation\n"
   ],
   "id": "704e12aa0c104b91"
  },
  {
   "metadata": {
    "ExecuteTime": {
     "end_time": "2025-06-14T04:05:09.438353Z",
     "start_time": "2025-06-14T04:05:09.433281Z"
    }
   },
   "cell_type": "code",
   "source": [
    "# setup\n",
    "import pandas as pd\n",
    "import numpy as np\n",
    "import matplotlib.pyplot as plt\n",
    "import seaborn as sns\n",
    "\n",
    "from sklearn.preprocessing import StandardScaler\n",
    "from sklearn.model_selection import train_test_split\n",
    "from sklearn.ensemble import RandomForestClassifier\n",
    "from sklearn.metrics import classification_report, confusion_matrix\n",
    "\n",
    "import mplfinance as mpf\n",
    "import backtrader as bt"
   ],
   "id": "9304efa784f99903",
   "outputs": [],
   "execution_count": 55
  },
  {
   "metadata": {
    "ExecuteTime": {
     "end_time": "2025-06-14T04:05:09.463Z",
     "start_time": "2025-06-14T04:05:09.448555Z"
    }
   },
   "cell_type": "code",
   "source": [
    "# data \n",
    "gold = pd.read_csv('data/Gold.csv', parse_dates=True, index_col=0, date_format='%m/%d/%y')\n",
    "gold.head()"
   ],
   "id": "da794c7a067a62a3",
   "outputs": [
    {
     "data": {
      "text/plain": [
       "                Close       High        Low       Open    Volume\n",
       "Date                                                            \n",
       "2014-01-02  15.179778  15.212941  14.848161  14.889613  17503697\n",
       "2014-01-03  15.047136  15.353883  14.989104  15.279269  13976294\n",
       "2014-01-06  15.212942  15.387040  15.063714  15.295847  11622763\n",
       "2014-01-07  15.146621  15.171491  14.881327  15.080297  10216714\n",
       "2014-01-08  14.889616  15.013974  14.740390  15.013974  13369077"
      ],
      "text/html": [
       "<div>\n",
       "<style scoped>\n",
       "    .dataframe tbody tr th:only-of-type {\n",
       "        vertical-align: middle;\n",
       "    }\n",
       "\n",
       "    .dataframe tbody tr th {\n",
       "        vertical-align: top;\n",
       "    }\n",
       "\n",
       "    .dataframe thead th {\n",
       "        text-align: right;\n",
       "    }\n",
       "</style>\n",
       "<table border=\"1\" class=\"dataframe\">\n",
       "  <thead>\n",
       "    <tr style=\"text-align: right;\">\n",
       "      <th></th>\n",
       "      <th>Close</th>\n",
       "      <th>High</th>\n",
       "      <th>Low</th>\n",
       "      <th>Open</th>\n",
       "      <th>Volume</th>\n",
       "    </tr>\n",
       "    <tr>\n",
       "      <th>Date</th>\n",
       "      <th></th>\n",
       "      <th></th>\n",
       "      <th></th>\n",
       "      <th></th>\n",
       "      <th></th>\n",
       "    </tr>\n",
       "  </thead>\n",
       "  <tbody>\n",
       "    <tr>\n",
       "      <th>2014-01-02</th>\n",
       "      <td>15.179778</td>\n",
       "      <td>15.212941</td>\n",
       "      <td>14.848161</td>\n",
       "      <td>14.889613</td>\n",
       "      <td>17503697</td>\n",
       "    </tr>\n",
       "    <tr>\n",
       "      <th>2014-01-03</th>\n",
       "      <td>15.047136</td>\n",
       "      <td>15.353883</td>\n",
       "      <td>14.989104</td>\n",
       "      <td>15.279269</td>\n",
       "      <td>13976294</td>\n",
       "    </tr>\n",
       "    <tr>\n",
       "      <th>2014-01-06</th>\n",
       "      <td>15.212942</td>\n",
       "      <td>15.387040</td>\n",
       "      <td>15.063714</td>\n",
       "      <td>15.295847</td>\n",
       "      <td>11622763</td>\n",
       "    </tr>\n",
       "    <tr>\n",
       "      <th>2014-01-07</th>\n",
       "      <td>15.146621</td>\n",
       "      <td>15.171491</td>\n",
       "      <td>14.881327</td>\n",
       "      <td>15.080297</td>\n",
       "      <td>10216714</td>\n",
       "    </tr>\n",
       "    <tr>\n",
       "      <th>2014-01-08</th>\n",
       "      <td>14.889616</td>\n",
       "      <td>15.013974</td>\n",
       "      <td>14.740390</td>\n",
       "      <td>15.013974</td>\n",
       "      <td>13369077</td>\n",
       "    </tr>\n",
       "  </tbody>\n",
       "</table>\n",
       "</div>"
      ]
     },
     "execution_count": 56,
     "metadata": {},
     "output_type": "execute_result"
    }
   ],
   "execution_count": 56
  },
  {
   "metadata": {
    "ExecuteTime": {
     "end_time": "2025-06-14T04:05:09.480380Z",
     "start_time": "2025-06-14T04:05:09.464054Z"
    }
   },
   "cell_type": "code",
   "source": [
    "gold.info()\n",
    "gold.describe()"
   ],
   "id": "bd05aa4a131c7c2c",
   "outputs": [
    {
     "name": "stdout",
     "output_type": "stream",
     "text": [
      "<class 'pandas.core.frame.DataFrame'>\n",
      "DatetimeIndex: 2516 entries, 2014-01-02 to 2023-12-29\n",
      "Data columns (total 5 columns):\n",
      " #   Column  Non-Null Count  Dtype  \n",
      "---  ------  --------------  -----  \n",
      " 0   Close   2516 non-null   float64\n",
      " 1   High    2516 non-null   float64\n",
      " 2   Low     2516 non-null   float64\n",
      " 3   Open    2516 non-null   float64\n",
      " 4   Volume  2516 non-null   int64  \n",
      "dtypes: float64(4), int64(1)\n",
      "memory usage: 117.9 KB\n"
     ]
    },
    {
     "data": {
      "text/plain": [
       "             Close         High          Low         Open        Volume\n",
       "count  2516.000000  2516.000000  2516.000000  2516.000000  2.516000e+03\n",
       "mean     14.885227    15.110079    14.666015    14.896284  1.631677e+07\n",
       "std       4.309338     4.359555     4.250347     4.317217  7.344741e+06\n",
       "min       5.041925     5.288080     5.016461     5.160758  0.000000e+00\n",
       "25%      11.606791    11.762850    11.421661    11.599643  1.113029e+07\n",
       "50%      14.989721    15.205619    14.782459    15.011905  1.487344e+07\n",
       "75%      17.324486    17.549096    17.043383    17.316417  1.984837e+07\n",
       "max      27.110197    27.708836    26.674084    27.691087  6.722794e+07"
      ],
      "text/html": [
       "<div>\n",
       "<style scoped>\n",
       "    .dataframe tbody tr th:only-of-type {\n",
       "        vertical-align: middle;\n",
       "    }\n",
       "\n",
       "    .dataframe tbody tr th {\n",
       "        vertical-align: top;\n",
       "    }\n",
       "\n",
       "    .dataframe thead th {\n",
       "        text-align: right;\n",
       "    }\n",
       "</style>\n",
       "<table border=\"1\" class=\"dataframe\">\n",
       "  <thead>\n",
       "    <tr style=\"text-align: right;\">\n",
       "      <th></th>\n",
       "      <th>Close</th>\n",
       "      <th>High</th>\n",
       "      <th>Low</th>\n",
       "      <th>Open</th>\n",
       "      <th>Volume</th>\n",
       "    </tr>\n",
       "  </thead>\n",
       "  <tbody>\n",
       "    <tr>\n",
       "      <th>count</th>\n",
       "      <td>2516.000000</td>\n",
       "      <td>2516.000000</td>\n",
       "      <td>2516.000000</td>\n",
       "      <td>2516.000000</td>\n",
       "      <td>2.516000e+03</td>\n",
       "    </tr>\n",
       "    <tr>\n",
       "      <th>mean</th>\n",
       "      <td>14.885227</td>\n",
       "      <td>15.110079</td>\n",
       "      <td>14.666015</td>\n",
       "      <td>14.896284</td>\n",
       "      <td>1.631677e+07</td>\n",
       "    </tr>\n",
       "    <tr>\n",
       "      <th>std</th>\n",
       "      <td>4.309338</td>\n",
       "      <td>4.359555</td>\n",
       "      <td>4.250347</td>\n",
       "      <td>4.317217</td>\n",
       "      <td>7.344741e+06</td>\n",
       "    </tr>\n",
       "    <tr>\n",
       "      <th>min</th>\n",
       "      <td>5.041925</td>\n",
       "      <td>5.288080</td>\n",
       "      <td>5.016461</td>\n",
       "      <td>5.160758</td>\n",
       "      <td>0.000000e+00</td>\n",
       "    </tr>\n",
       "    <tr>\n",
       "      <th>25%</th>\n",
       "      <td>11.606791</td>\n",
       "      <td>11.762850</td>\n",
       "      <td>11.421661</td>\n",
       "      <td>11.599643</td>\n",
       "      <td>1.113029e+07</td>\n",
       "    </tr>\n",
       "    <tr>\n",
       "      <th>50%</th>\n",
       "      <td>14.989721</td>\n",
       "      <td>15.205619</td>\n",
       "      <td>14.782459</td>\n",
       "      <td>15.011905</td>\n",
       "      <td>1.487344e+07</td>\n",
       "    </tr>\n",
       "    <tr>\n",
       "      <th>75%</th>\n",
       "      <td>17.324486</td>\n",
       "      <td>17.549096</td>\n",
       "      <td>17.043383</td>\n",
       "      <td>17.316417</td>\n",
       "      <td>1.984837e+07</td>\n",
       "    </tr>\n",
       "    <tr>\n",
       "      <th>max</th>\n",
       "      <td>27.110197</td>\n",
       "      <td>27.708836</td>\n",
       "      <td>26.674084</td>\n",
       "      <td>27.691087</td>\n",
       "      <td>6.722794e+07</td>\n",
       "    </tr>\n",
       "  </tbody>\n",
       "</table>\n",
       "</div>"
      ]
     },
     "execution_count": 57,
     "metadata": {},
     "output_type": "execute_result"
    }
   ],
   "execution_count": 57
  },
  {
   "metadata": {
    "ExecuteTime": {
     "end_time": "2025-06-14T04:05:09.548486Z",
     "start_time": "2025-06-14T04:05:09.481019Z"
    }
   },
   "cell_type": "code",
   "source": "mpf.plot(gold, type='line')",
   "id": "3193a33b91e03ef1",
   "outputs": [
    {
     "data": {
      "text/plain": [
       "<Figure size 800x575 with 2 Axes>"
      ],
      "image/png": "[encoded data removed]"
     },
     "metadata": {},
     "output_type": "display_data"
    }
   ],
   "execution_count": 58
  },
  {
   "metadata": {
    "ExecuteTime": {
     "end_time": "2025-06-14T04:05:09.553389Z",
     "start_time": "2025-06-14T04:05:09.549995Z"
    }
   },
   "cell_type": "code",
   "source": [
    "# Return and Target classifier columns\n",
    "gold['Return'] = gold['Close'].pct_change() # diff between d0 and d-1\n",
    "gold['Target'] = (gold['Return'].shift(-1) > 0).astype(int) # tells the lm if the stock is going up or down"
   ],
   "id": "af8985eee04b4760",
   "outputs": [],
   "execution_count": 59
  },
  {
   "metadata": {
    "ExecuteTime": {
     "end_time": "2025-06-14T04:05:09.560469Z",
     "start_time": "2025-06-14T04:05:09.553969Z"
    }
   },
   "cell_type": "code",
   "source": [
    "# Adding technical indicators\n",
    "def calculate_technical_indicators(df):\n",
    "    # Moving averages\n",
    "    df['MA_5'] = df['Close'].rolling(5).mean()\n",
    "    df['MA_20'] = df['Close'].rolling(20).mean()\n",
    "    df['MA_50'] = df['Close'].rolling(50).mean()\n",
    "\n",
    "    # RSI\n",
    "    delta = df['Close'].diff()\n",
    "    gain = delta.where(delta > 0, 0)\n",
    "    loss = -delta.where(delta < 0, 0)\n",
    "    avg_gain = gain.rolling(14).mean()\n",
    "    avg_loss = loss.rolling(14).mean()\n",
    "    rs = avg_gain / avg_loss\n",
    "    df['RSI'] = 100 - (100 / (1 + rs))\n",
    "\n",
    "    # MACD\n",
    "    exp12 = df['Close'].ewm(span=12, adjust=False).mean()\n",
    "    exp26 = df['Close'].ewm(span=26, adjust=False).mean()\n",
    "    df['MACD'] = exp12 - exp26\n",
    "    df['Signal_Line'] = df['MACD'].ewm(span=9, adjust=False).mean()\n",
    "\n",
    "    # Bollinger Bands\n",
    "    df['Upper_Band'] = df['MA_20'] + (2 * df['Close'].rolling(20).std())\n",
    "    df['Lower_Band'] = df['MA_20'] - (2 * df['Close'].rolling(20).std())\n",
    "\n",
    "    # Volume features\n",
    "    df['Volume_MA_5'] = df['Volume'].rolling(5).mean()\n",
    "    df['Volume_Change'] = df['Volume'].pct_change()\n",
    "    \n",
    "    return df\n",
    "\n",
    "gold = calculate_technical_indicators(gold)"
   ],
   "id": "68ade559833d3583",
   "outputs": [],
   "execution_count": 60
  },
  {
   "metadata": {
    "ExecuteTime": {
     "end_time": "2025-06-14T04:05:09.564969Z",
     "start_time": "2025-06-14T04:05:09.561044Z"
    }
   },
   "cell_type": "code",
   "source": [
    "# removing inf and nan values\n",
    "np.isinf(gold).sum()\n",
    "np.isnan(gold).sum()\n",
    "gold = gold[~np.isinf(gold).any(axis=1) & ~np.isnan(gold).any(axis=1)]"
   ],
   "id": "35df93322d3b5611",
   "outputs": [],
   "execution_count": 61
  },
  {
   "metadata": {
    "ExecuteTime": {
     "end_time": "2025-06-14T04:06:37.826095Z",
     "start_time": "2025-06-14T04:06:37.458596Z"
    }
   },
   "cell_type": "code",
   "source": [
    "# Model development\n",
    "features = ['MA_5', 'MA_20', 'MA_50', 'RSI', 'MACD', 'Signal_Line', \n",
    "            'Upper_Band', 'Lower_Band', 'Volume_MA_5', 'Volume_Change']\n",
    "X = gold[features]\n",
    "y = gold['Target']\n",
    "\n",
    "X_train, X_test, y_train, y_test = train_test_split(X, y, test_size=0.3, shuffle=False)\n",
    "\n",
    "scaler = StandardScaler()\n",
    "X_train_scaled = scaler.fit_transform(X_train) # fits the train set into the scaler\n",
    "X_test_scaled = scaler.transform(X_test) # scales the test set using the train set\n",
    "\n",
    "rf = RandomForestClassifier(n_estimators=100, random_state=123) # set seed 123\n",
    "rf.fit(X_train_scaled, y_train)\n",
    "\n",
    "y_pred = rf.predict(X_test_scaled)\n",
    "print(classification_report(y_test, y_pred))"
   ],
   "id": "f537b14c8ad8e1a0",
   "outputs": [
    {
     "name": "stdout",
     "output_type": "stream",
     "text": [
      "              precision    recall  f1-score   support\n",
      "\n",
      "           0       0.52      0.42      0.47       386\n",
      "           1       0.48      0.57      0.52       354\n",
      "\n",
      "    accuracy                           0.49       740\n",
      "   macro avg       0.50      0.50      0.49       740\n",
      "weighted avg       0.50      0.49      0.49       740\n",
      "\n"
     ]
    }
   ],
   "execution_count": 64
  },
  {
   "metadata": {
    "ExecuteTime": {
     "end_time": "2025-06-14T04:09:37.648057Z",
     "start_time": "2025-06-14T04:09:37.466786Z"
    }
   },
   "cell_type": "code",
   "source": [
    "# Visualising variable importance\n",
    "importances = rf.feature_importances_\n",
    "indices = np.argsort(importances)[::-1]\n",
    "plt.figure(figsize=(12,6))\n",
    "plt.title('Feature Importances')\n",
    "plt.bar(range(len(importances)), importances[indices])\n",
    "plt.xticks(range(len(importances)), [features[i] for i in indices], rotation=90)\n",
    "plt.show()"
   ],
   "id": "2fd3fcb923bf86cc",
   "outputs": [
    {
     "data": {
      "text/plain": [
       "<Figure size 1200x600 with 1 Axes>"
      ],
      "image/png": "[encoded data removed]"
     },
     "metadata": {},
     "output_type": "display_data"
    }
   ],
   "execution_count": 65
  },
  {
   "metadata": {
    "ExecuteTime": {
     "end_time": "2025-06-14T04:24:14.572635Z",
     "start_time": "2025-06-14T04:24:12.889825Z"
    }
   },
   "cell_type": "code",
   "source": [
    "# Walk forward Validation\n",
    "def walk_forward_validation(data, features, train_size=252, test_size=63):\n",
    "    predictions = []\n",
    "    actuals = []\n",
    "    \n",
    "    n_splits = (len(data) - train_size) // test_size\n",
    "    \n",
    "    for i in range(n_splits):\n",
    "        # Split data\n",
    "        train_start = i * test_size\n",
    "        train_end = train_start + train_size\n",
    "        test_end = train_end + test_size\n",
    "        \n",
    "        train_data = data.iloc[train_start:train_end]\n",
    "        test_data = data.iloc[train_end:test_end]\n",
    "        \n",
    "        # Prepare features and target\n",
    "        X_train = train_data[features]\n",
    "        y_train = train_data['Target']\n",
    "        X_test = test_data[features]\n",
    "        y_test = test_data['Target']\n",
    "        \n",
    "        # Scale features\n",
    "        scaler = StandardScaler()\n",
    "        X_train_scaled = scaler.fit_transform(X_train)\n",
    "        X_test_scaled = scaler.transform(X_test)\n",
    "        \n",
    "        # Train model\n",
    "        model = RandomForestClassifier(n_estimators=100, random_state=42)\n",
    "        model.fit(X_train_scaled, y_train)\n",
    "        \n",
    "        # Predict and store results\n",
    "        y_pred = model.predict(X_test_scaled)\n",
    "        predictions.extend(y_pred)\n",
    "        actuals.extend(y_test.values)\n",
    "    \n",
    "    return np.array(predictions), np.array(actuals)\n",
    "\n",
    "optimised_features = ['Volume_MA_5', 'Volume_Change']\n",
    "\n",
    "predictions, actuals = walk_forward_validation(gold, optimised_features)\n",
    "\n",
    "print(classification_report(actuals, predictions))\n",
    "print(confusion_matrix(actuals, predictions))"
   ],
   "id": "bbe1a3d3b42593f7",
   "outputs": [
    {
     "name": "stdout",
     "output_type": "stream",
     "text": [
      "              precision    recall  f1-score   support\n",
      "\n",
      "           0       0.50      0.54      0.52      1104\n",
      "           1       0.50      0.47      0.48      1101\n",
      "\n",
      "    accuracy                           0.50      2205\n",
      "   macro avg       0.50      0.50      0.50      2205\n",
      "weighted avg       0.50      0.50      0.50      2205\n",
      "\n",
      "[[591 513]\n",
      " [585 516]]\n"
     ]
    }
   ],
   "execution_count": 75
  },
  {
   "metadata": {
    "ExecuteTime": {
     "end_time": "2025-06-14T04:24:17.766586Z",
     "start_time": "2025-06-14T04:24:17.762793Z"
    }
   },
   "cell_type": "code",
   "source": "predictions",
   "id": "32cd509049fcb290",
   "outputs": [
    {
     "data": {
      "text/plain": [
       "array([1, 1, 0, ..., 1, 1, 0], shape=(2205,))"
      ]
     },
     "execution_count": 76,
     "metadata": {},
     "output_type": "execute_result"
    }
   ],
   "execution_count": 76
  },
  {
   "metadata": {},
   "cell_type": "code",
   "outputs": [],
   "execution_count": null,
   "source": "",
   "id": "87300a50bd45d95b"
  }
 ],
 "metadata": {
  "kernelspec": {
   "display_name": "Python 3",
   "language": "python",
   "name": "python3"
  },
  "language_info": {
   "codemirror_mode": {
    "name": "ipython",
    "version": 2
   },
   "file_extension": ".py",
   "mimetype": "text/x-python",
   "name": "python",
   "nbconvert_exporter": "python",
   "pygments_lexer": "ipython2",
   "version": "2.7.6"
  }
 },
 "nbformat": 4,
 "nbformat_minor": 5
}
